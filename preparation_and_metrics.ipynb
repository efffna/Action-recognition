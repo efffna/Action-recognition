{
 "cells": [
  {
   "cell_type": "code",
   "execution_count": 22,
   "id": "53597cb5",
   "metadata": {},
   "outputs": [],
   "source": [
    "import os\n",
    "import pandas as pd\n",
    "from pathlib import Path\n",
    "import json\n",
    "import cv2\n",
    "dataset_root = 'action_dataset'\n",
    "sample_rate = 20"
   ]
  },
  {
   "cell_type": "markdown",
   "id": "9e707087",
   "metadata": {},
   "source": [
    "# Create annotation file for swin transformer"
   ]
  },
  {
   "cell_type": "code",
   "execution_count": 12,
   "id": "3a391891",
   "metadata": {},
   "outputs": [],
   "source": [
    "df = pd.read_csv(Path(dataset_root, 'dance-train.csv'))\n",
    "classes = df['label'].unique()\n",
    "class_mapper = {class_name: i for i, class_name in enumerate(classes)}\n",
    "with open(Path(dataset_root, 'class_mapper.json'), 'w') as f:\n",
    "    json.dump(class_mapper, f)"
   ]
  },
  {
   "cell_type": "code",
   "execution_count": 15,
   "id": "73f31beb",
   "metadata": {},
   "outputs": [],
   "source": [
    "df = pd.read_csv(Path(dataset_root, 'dance-train.csv'))\n",
    "videos = os.listdir(Path(dataset_root, 'videos'))\n",
    "with open(Path(dataset_root, 'train_annotation.txt'), 'w') as f:\n",
    "    for _, row in df.iterrows():\n",
    "        if row[\"youtube_id\"] + \".mp4\" not in videos:\n",
    "            continue\n",
    "        annotation = f'{row[\"youtube_id\"] + \".mp4\"} {class_mapper[row[\"label\"]]}\\n'\n",
    "        f.write(annotation)"
   ]
  },
  {
   "cell_type": "code",
   "execution_count": 16,
   "id": "ae66e122",
   "metadata": {},
   "outputs": [],
   "source": [
    "df = pd.read_csv(Path(dataset_root, 'dance-validate.csv'))\n",
    "with open(Path(dataset_root, 'validate_annotation.txt'), 'w') as f:\n",
    "    for _, row in df.iterrows():\n",
    "        if row[\"youtube_id\"] + \".mp4\" not in videos:\n",
    "            continue\n",
    "        annotation = f'{row[\"youtube_id\"] + \".mp4\"} {class_mapper[row[\"label\"]]}\\n'\n",
    "        f.write(annotation)"
   ]
  },
  {
   "cell_type": "markdown",
   "id": "674e2e35",
   "metadata": {},
   "source": [
    "# Create frames from train videos for 2d net"
   ]
  },
  {
   "cell_type": "code",
   "execution_count": 18,
   "id": "ec39a4e0",
   "metadata": {},
   "outputs": [],
   "source": [
    "df = pd.read_csv(Path(dataset_root, 'dance-train.csv'))"
   ]
  },
  {
   "cell_type": "code",
   "execution_count": null,
   "id": "7c47f6d3",
   "metadata": {},
   "outputs": [],
   "source": [
    "for _, row in df.iterrows():\n",
    "    if row[\"youtube_id\"] + \".mp4\" not in videos:\n",
    "        continue\n",
    "    cap = cv2.VideoCapture(str(Path(dataset_root, 'videos', row[\"youtube_id\"] + \".mp4\")))\n",
    "    success, img = cap.read()\n",
    "    fno = 1\n",
    "    while success:\n",
    "        label = row[\"label\"]\n",
    "        imgs_dir = Path(dataset_root, 'imgs', label)\n",
    "        os.makedirs(imgs_dir, exist_ok=True)\n",
    "        if fno % sample_rate == 0:\n",
    "            cv2.imwrite(str(imgs_dir / f'{row[\"youtube_id\"]}_{fno}.png'), img)\n",
    "        \n",
    "        # read next frame\n",
    "        success, img = cap.read()\n",
    "        fno += 1\n",
    "    print(row[\"youtube_id\"])"
   ]
  },
  {
   "cell_type": "markdown",
   "id": "76e0f81b",
   "metadata": {},
   "source": [
    "# Pritnt 2d net metrics"
   ]
  },
  {
   "cell_type": "code",
   "execution_count": 44,
   "id": "0bb19112",
   "metadata": {},
   "outputs": [],
   "source": [
    "import json\n",
    "from sklearn.metrics import top_k_accuracy_score, classification_report\n",
    "\n",
    "with open(\"test_results.json\", \"r\") as f:\n",
    "    gt, preds = json.load(f)"
   ]
  },
  {
   "cell_type": "code",
   "execution_count": 55,
   "id": "a2c4ee73",
   "metadata": {},
   "outputs": [
    {
     "name": "stdout",
     "output_type": "stream",
     "text": [
      "              precision    recall  f1-score   support\n",
      "\n",
      "           0       0.67      0.65      0.66        46\n",
      "           1       0.27      0.30      0.28        44\n",
      "           2       0.20      0.18      0.19        45\n",
      "           3       0.26      0.27      0.26        45\n",
      "           4       0.24      0.23      0.24        43\n",
      "           5       0.33      0.37      0.35        43\n",
      "           6       0.38      0.37      0.38        43\n",
      "           7       0.33      0.33      0.33        45\n",
      "           8       0.37      0.37      0.37        43\n",
      "           9       0.42      0.41      0.42        46\n",
      "          10       0.32      0.33      0.32        46\n",
      "          11       0.35      0.38      0.37        45\n",
      "          12       0.32      0.28      0.30        46\n",
      "          13       0.28      0.27      0.27        45\n",
      "          14       0.43      0.28      0.34        46\n",
      "          15       0.00      0.00      0.00         0\n",
      "\n",
      "    accuracy                           0.34       671\n",
      "   macro avg       0.32      0.31      0.32       671\n",
      "weighted avg       0.35      0.34      0.34       671\n",
      "\n"
     ]
    },
    {
     "name": "stderr",
     "output_type": "stream",
     "text": [
      "/home/user/.local/lib/python3.8/site-packages/scikit_learn-1.2.0-py3.8-linux-x86_64.egg/sklearn/metrics/_classification.py:1344: UndefinedMetricWarning: Recall and F-score are ill-defined and being set to 0.0 in labels with no true samples. Use `zero_division` parameter to control this behavior.\n",
      "  _warn_prf(average, modifier, msg_start, len(result))\n",
      "/home/user/.local/lib/python3.8/site-packages/scikit_learn-1.2.0-py3.8-linux-x86_64.egg/sklearn/metrics/_classification.py:1344: UndefinedMetricWarning: Recall and F-score are ill-defined and being set to 0.0 in labels with no true samples. Use `zero_division` parameter to control this behavior.\n",
      "  _warn_prf(average, modifier, msg_start, len(result))\n",
      "/home/user/.local/lib/python3.8/site-packages/scikit_learn-1.2.0-py3.8-linux-x86_64.egg/sklearn/metrics/_classification.py:1344: UndefinedMetricWarning: Recall and F-score are ill-defined and being set to 0.0 in labels with no true samples. Use `zero_division` parameter to control this behavior.\n",
      "  _warn_prf(average, modifier, msg_start, len(result))\n"
     ]
    }
   ],
   "source": [
    "print(classification_report(gt, preds))"
   ]
  }
 ],
 "metadata": {
  "kernelspec": {
   "display_name": "Python 3 (ipykernel)",
   "language": "python",
   "name": "python3"
  },
  "language_info": {
   "codemirror_mode": {
    "name": "ipython",
    "version": 3
   },
   "file_extension": ".py",
   "mimetype": "text/x-python",
   "name": "python",
   "nbconvert_exporter": "python",
   "pygments_lexer": "ipython3",
   "version": "3.8.15"
  }
 },
 "nbformat": 4,
 "nbformat_minor": 5
}
